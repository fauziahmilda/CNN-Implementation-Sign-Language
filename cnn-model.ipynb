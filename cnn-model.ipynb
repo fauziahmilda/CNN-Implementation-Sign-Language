{
 "cells": [
  {
   "attachments": {},
   "cell_type": "markdown",
   "metadata": {},
   "source": [
    "Import Library"
   ]
  },
  {
   "cell_type": "code",
   "execution_count": 7,
   "metadata": {},
   "outputs": [],
   "source": [
    "from keras.layers import Conv2D, Dense, Dropout, Flatten, MaxPooling2D\n",
    "from keras.models import Sequential\n",
    "from keras.preprocessing.image import ImageDataGenerator"
   ]
  },
  {
   "attachments": {},
   "cell_type": "markdown",
   "metadata": {},
   "source": [
    "Prepare Data"
   ]
  },
  {
   "cell_type": "code",
   "execution_count": 9,
   "metadata": {},
   "outputs": [
    {
     "name": "stdout",
     "output_type": "stream",
     "text": [
      "Found 1653 images belonging to 10 classes.\n",
      "Found 409 images belonging to 10 classes.\n"
     ]
    }
   ],
   "source": [
    "data_dir = 'datasetASL-master\\datasetASL-master\\Dataset'\n",
    "target_size = (100,100)\n",
    "classes = 10\n",
    "\n",
    "train_datagen = ImageDataGenerator(rescale=1./25,\n",
    "                                   zoom_range=0.1,\n",
    "                                   horizontal_flip=False,\n",
    "                                   validation_split=0.2)\n",
    "\n",
    "train_gen = train_datagen.flow_from_directory(data_dir, target_size=target_size,\n",
    "                                              shuffle= True,\n",
    "                                              batch_size=32,\n",
    "                                              color_mode='rgb',\n",
    "                                              class_mode='categorical',\n",
    "                                              subset='training')\n",
    "val_gen = train_datagen.flow_from_directory(data_dir,target_size=target_size,\n",
    "                                            batch_size=32,\n",
    "                                            color_mode='rgb',\n",
    "                                            class_mode='categorical',\n",
    "                                            subset='validation')"
   ]
  },
  {
   "attachments": {},
   "cell_type": "markdown",
   "metadata": {},
   "source": [
    "Create Model"
   ]
  },
  {
   "cell_type": "code",
   "execution_count": null,
   "metadata": {},
   "outputs": [],
   "source": [
    "model = Sequential()\n",
    "model.add(Conv2D(32, kernel_size=3, strides=1, activation='relu', padding='same',input_shape=(100,100,3)))\n",
    "model.add(MaxPooling2D(pool_size=(3,3), strides=2))\n",
    "\n",
    "model.add(Conv2D(64, kernel_size=3, strides=1, activation='relu', padding='same'))\n",
    "model.add(MaxPooling2D(pool_size=(2,2), strides=2))\n",
    "\n",
    "model.add(Conv2D(64, kernel_size=3, strides=1, activation='relu', padding='same'))\n",
    "model.add(MaxPooling2D(pool_size=(2,2), strides=2))\n",
    "\n",
    "model.add(Conv2D(128, kernel_size=3, strides=1, activation='relu', padding='same'))\n",
    "model.add(MaxPooling2D(pool_size=(2,2), strides=1))\n",
    "\n",
    "#FLATTEN\n",
    "model.add(Flatten()) ##input\n",
    "model.add(Dropout(0.5))\n",
    "model.add(Dense(512, activation='relu'))\n",
    "model.add(Dense(classes, activation='softmax')) ##output ##pakesoftmax karena categorical\n",
    "\n",
    "model.compile(optimizer='Adam', loss='categorical_crossentropy', metrics=['accuracy'])"
   ]
  }
 ],
 "metadata": {
  "kernelspec": {
   "display_name": "base",
   "language": "python",
   "name": "python3"
  },
  "language_info": {
   "codemirror_mode": {
    "name": "ipython",
    "version": 3
   },
   "file_extension": ".py",
   "mimetype": "text/x-python",
   "name": "python",
   "nbconvert_exporter": "python",
   "pygments_lexer": "ipython3",
   "version": "3.9.13"
  },
  "orig_nbformat": 4,
  "vscode": {
   "interpreter": {
    "hash": "ad2bdc8ecc057115af97d19610ffacc2b4e99fae6737bb82f5d7fb13d2f2c186"
   }
  }
 },
 "nbformat": 4,
 "nbformat_minor": 2
}
